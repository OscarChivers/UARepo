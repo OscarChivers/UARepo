{
 "cells": [
  {
   "cell_type": "code",
   "execution_count": 2,
   "id": "c819b1b8-8550-4ca7-a705-5f30e548036c",
   "metadata": {},
   "outputs": [],
   "source": [
    "#testing this "
   ]
  },
  {
   "cell_type": "markdown",
   "id": "2f679013-e7b8-4e78-ae44-972424cf8baf",
   "metadata": {},
   "source": [
    "### THis will show me if I have made a mistake whilst setting up my github account "
   ]
  }
 ],
 "metadata": {
  "kernelspec": {
   "display_name": "Python 3 (ipykernel)",
   "language": "python",
   "name": "python3"
  },
  "language_info": {
   "codemirror_mode": {
    "name": "ipython",
    "version": 3
   },
   "file_extension": ".py",
   "mimetype": "text/x-python",
   "name": "python",
   "nbconvert_exporter": "python",
   "pygments_lexer": "ipython3",
   "version": "3.10.13"
  }
 },
 "nbformat": 4,
 "nbformat_minor": 5
}
