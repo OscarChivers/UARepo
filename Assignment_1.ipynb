{
 "cells": [
  {
   "cell_type": "markdown",
   "id": "9a7b36fa-d56e-46c4-88bd-c3447f81cf1f",
   "metadata": {},
   "source": [
    "# Assignment 1 Notebook \n",
    "\n",
    "## Oscar Chivers, 190012624\n",
    "\n",
    "GitHub username: OscarChivers\n",
    "\n",
    "GitHub URL: https://github.com/OscarChivers/UARepo.git"
   ]
  },
  {
   "cell_type": "markdown",
   "id": "fefedf80-406b-4934-884a-8182ecdbe60d",
   "metadata": {},
   "source": [
    "# Lab 1 Challenges"
   ]
  },
  {
   "cell_type": "markdown",
   "id": "8c7b712d-244f-4bb8-99aa-89492a20cd96",
   "metadata": {},
   "source": [
    "## Challenge 1"
   ]
  },
  {
   "cell_type": "markdown",
   "id": "5183806c-db01-4516-837b-d9eb1d5c1a0e",
   "metadata": {},
   "source": [
    " Create a table with required columns and rows to represent the type of roads in the UK. The table should include headers and hiperlinks."
   ]
  },
  {
   "cell_type": "code",
   "execution_count": 1,
   "id": "10a531ba-8042-4c1a-9b8e-22b337c59faf",
   "metadata": {},
   "outputs": [],
   "source": [
    "#Create a dictionary with the different types of roads\n",
    "import pandas as pd\n",
    "import numpy as np\n",
    "road_type_dict = {\n",
    "    'Type of Road': ['A Road', 'B Road', 'C Road', 'Motorways'],\n",
    "    'Short Explanation': ['Major Road between towns and cities', \n",
    "                          'Minor road in the UK', 'Minor road in the UK',\n",
    "                          'High Speed Road that links towns and cities']\n",
    "}\n",
    "\n",
    "#adding hyperlinks \n",
    "road_type_dict[\"Hyperlink\"] = ['https://nationalhighways.co.uk/our-roads/history-of-modern-a-roads/',\n",
    "                               'https://www.pistonheads.com/gassing/topic.asp?h=0&f=153&t=1724632',\n",
    "                               'https://www.roads.org.uk/photo/c-roads',\n",
    "                               'https://nationalhighways.co.uk/road-safety/driving-on-motorways/']"
   ]
  },
  {
   "cell_type": "code",
   "execution_count": 3,
   "id": "9056831e-e0be-4e47-a15f-77f5ef645f3f",
   "metadata": {},
   "outputs": [
    {
     "data": {
      "text/html": [
       "<div>\n",
       "<style scoped>\n",
       "    .dataframe tbody tr th:only-of-type {\n",
       "        vertical-align: middle;\n",
       "    }\n",
       "\n",
       "    .dataframe tbody tr th {\n",
       "        vertical-align: top;\n",
       "    }\n",
       "\n",
       "    .dataframe thead th {\n",
       "        text-align: right;\n",
       "    }\n",
       "</style>\n",
       "<table border=\"1\" class=\"dataframe\">\n",
       "  <thead>\n",
       "    <tr style=\"text-align: right;\">\n",
       "      <th></th>\n",
       "      <th>Type of Road</th>\n",
       "      <th>Short Explanation</th>\n",
       "      <th>Hyperlink</th>\n",
       "    </tr>\n",
       "  </thead>\n",
       "  <tbody>\n",
       "    <tr>\n",
       "      <th>0</th>\n",
       "      <td>A Road</td>\n",
       "      <td>Major Road between towns and cities</td>\n",
       "      <td>https://nationalhighways.co.uk/our-roads/histo...</td>\n",
       "    </tr>\n",
       "    <tr>\n",
       "      <th>1</th>\n",
       "      <td>B Road</td>\n",
       "      <td>Minor road in the UK</td>\n",
       "      <td>https://www.pistonheads.com/gassing/topic.asp?...</td>\n",
       "    </tr>\n",
       "    <tr>\n",
       "      <th>2</th>\n",
       "      <td>C Road</td>\n",
       "      <td>Minor road in the UK</td>\n",
       "      <td>https://www.roads.org.uk/photo/c-roads</td>\n",
       "    </tr>\n",
       "    <tr>\n",
       "      <th>3</th>\n",
       "      <td>Motorways</td>\n",
       "      <td>High Speed Road that links towns and cities</td>\n",
       "      <td>https://nationalhighways.co.uk/road-safety/dri...</td>\n",
       "    </tr>\n",
       "  </tbody>\n",
       "</table>\n",
       "</div>"
      ],
      "text/plain": [
       "  Type of Road                            Short Explanation  \\\n",
       "0       A Road          Major Road between towns and cities   \n",
       "1       B Road                         Minor road in the UK   \n",
       "2       C Road                         Minor road in the UK   \n",
       "3    Motorways  High Speed Road that links towns and cities   \n",
       "\n",
       "                                           Hyperlink  \n",
       "0  https://nationalhighways.co.uk/our-roads/histo...  \n",
       "1  https://www.pistonheads.com/gassing/topic.asp?...  \n",
       "2             https://www.roads.org.uk/photo/c-roads  \n",
       "3  https://nationalhighways.co.uk/road-safety/dri...  "
      ]
     },
     "execution_count": 3,
     "metadata": {},
     "output_type": "execute_result"
    }
   ],
   "source": [
    "#converting dictionary to a dataframe and printing it\n",
    "road_data = pd.DataFrame(road_type_dict)\n",
    "road_data"
   ]
  },
  {
   "cell_type": "markdown",
   "id": "c7102e22-7a86-4cf3-9e96-f31ba0bebe97",
   "metadata": {},
   "source": [
    "## Challenge 2\n",
    "\n",
    "In the following cell, create the code to calculate the average of three numbers and print the result. There is no need for functions. Comment your code and the process"
   ]
  },
  {
   "cell_type": "code",
   "execution_count": 4,
   "id": "74c1637c-d28d-48c6-a0c8-cc1e09669cb9",
   "metadata": {},
   "outputs": [
    {
     "name": "stdout",
     "output_type": "stream",
     "text": [
      "Average = 6.0\n"
     ]
    }
   ],
   "source": [
    "#assigning numbers\n",
    "\n",
    "num1 = 5\n",
    "num2 = 6\n",
    "num3 = 7\n",
    "\n",
    "#calculating average\n",
    "average = (num1 + num2 + num3)/3\n",
    "\n",
    "#printing output\n",
    "print(f\"Average = {average}\")"
   ]
  },
  {
   "cell_type": "markdown",
   "id": "1dcd511f-d3e7-49f3-a863-71c65eab9c66",
   "metadata": {},
   "source": [
    "## Challenge 3\n",
    "\n",
    "Write a condition to check if a number is even."
   ]
  },
  {
   "cell_type": "code",
   "execution_count": 5,
   "id": "3d6ed7a9-c85d-4696-8fba-527ee38accc2",
   "metadata": {},
   "outputs": [
    {
     "name": "stdin",
     "output_type": "stream",
     "text": [
      "Enter a positive integer:  43\n"
     ]
    },
    {
     "name": "stdout",
     "output_type": "stream",
     "text": [
      "43 is odd\n"
     ]
    }
   ],
   "source": [
    "#ennter a number\n",
    "#if a number is even, the remainder when it is divided by two will be 0, otherwise, the number is odd\n",
    "\n",
    "num = int(input(\"Enter a positive integer: \"))\n",
    "if num%2 == 0:\n",
    "    print(f\"{num} is even\")\n",
    "else:\n",
    "    print(f\"{num} is odd\")"
   ]
  },
  {
   "cell_type": "markdown",
   "id": "37e5cbad-c3c4-438b-86cf-d6b08c6cd599",
   "metadata": {},
   "source": [
    "## Challenge 4\n",
    "\n",
    "Write the python code  to find the factorial of a number using a loop. Thefactorial of a number (integer positive) is the sum of multiplication of all the integers smaller than that positive integer. For example, factorial of **5** is:\n",
    "\n",
    "5 * 4 * 3 * 2 * 1 which equals to 120. "
   ]
  },
  {
   "cell_type": "code",
   "execution_count": 6,
   "id": "3c967b46-6e79-4f02-9922-8bfd3e11b218",
   "metadata": {},
   "outputs": [
    {
     "name": "stdout",
     "output_type": "stream",
     "text": [
      "the last loop included: 120\n"
     ]
    }
   ],
   "source": [
    "#using a for loop\n",
    "\n",
    "factorial = 1\n",
    "for i in range(1,6):\n",
    "    factorial *= i\n",
    "\n",
    "#taking print out of the loop, to avoid printing all of the other values\n",
    "print(f\"the last loop included: {factorial}\")"
   ]
  }
 ],
 "metadata": {
  "kernelspec": {
   "display_name": "Python 3 (ipykernel)",
   "language": "python",
   "name": "python3"
  },
  "language_info": {
   "codemirror_mode": {
    "name": "ipython",
    "version": 3
   },
   "file_extension": ".py",
   "mimetype": "text/x-python",
   "name": "python",
   "nbconvert_exporter": "python",
   "pygments_lexer": "ipython3",
   "version": "3.10.13"
  }
 },
 "nbformat": 4,
 "nbformat_minor": 5
}
