{
 "cells": [
  {
   "cell_type": "code",
   "execution_count": 2,
   "id": "74a27958-ebc4-4ce9-9f1d-ea1c3aa53b8c",
   "metadata": {},
   "outputs": [
    {
     "name": "stdout",
     "output_type": "stream",
     "text": [
      "Hello, world\n"
     ]
    }
   ],
   "source": [
    "print(\"Hello, world\")"
   ]
  },
  {
   "cell_type": "markdown",
   "id": "caa75992-928c-4343-9ab1-1b09ed317791",
   "metadata": {},
   "source": [
    "# My First Markdown Heading"
   ]
  },
  {
   "cell_type": "markdown",
   "id": "25b6aba2-1d80-44b3-a741-b4e4096eb8d3",
   "metadata": {},
   "source": [
    "## My second markdown heading"
   ]
  },
  {
   "cell_type": "code",
   "execution_count": null,
   "id": "d0103ace-606f-45a1-8515-2adbec2dc60c",
   "metadata": {},
   "outputs": [],
   "source": []
  }
 ],
 "metadata": {
  "kernelspec": {
   "display_name": "Python 3 (ipykernel)",
   "language": "python",
   "name": "python3"
  },
  "language_info": {
   "codemirror_mode": {
    "name": "ipython",
    "version": 3
   },
   "file_extension": ".py",
   "mimetype": "text/x-python",
   "name": "python",
   "nbconvert_exporter": "python",
   "pygments_lexer": "ipython3",
   "version": "3.10.13"
  }
 },
 "nbformat": 4,
 "nbformat_minor": 5
}
